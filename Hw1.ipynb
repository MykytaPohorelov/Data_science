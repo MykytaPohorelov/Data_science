{
  "nbformat": 4,
  "nbformat_minor": 0,
  "metadata": {
    "colab": {
      "provenance": []
    },
    "kernelspec": {
      "name": "python3",
      "display_name": "Python 3"
    },
    "language_info": {
      "name": "python"
    }
  },
  "cells": [
    {
      "cell_type": "code",
      "execution_count": 2,
      "metadata": {
        "colab": {
          "base_uri": "https://localhost:8080/"
        },
        "id": "qYwh7R5jW6mY",
        "outputId": "899c32ce-8c54-49ad-cbe3-3b340971d36f"
      },
      "outputs": [
        {
          "output_type": "stream",
          "name": "stdout",
          "text": [
            "[ 1  2  3  4  5  6  7  8  9 10]\n"
          ]
        }
      ],
      "source": [
        "import numpy as np\n",
        "vector = np.arange(1, 11)\n",
        "print(vector)"
      ]
    },
    {
      "cell_type": "code",
      "source": [
        "import numpy as np\n",
        "m = np.zeros((3, 3), dtype=int)\n",
        "print(m)"
      ],
      "metadata": {
        "colab": {
          "base_uri": "https://localhost:8080/"
        },
        "id": "Z7vdTvglX1zh",
        "outputId": "0e46dd54-c0f2-4e32-8ed7-2f70966cc43d"
      },
      "execution_count": 3,
      "outputs": [
        {
          "output_type": "stream",
          "name": "stdout",
          "text": [
            "[[0 0 0]\n",
            " [0 0 0]\n",
            " [0 0 0]]\n"
          ]
        }
      ]
    },
    {
      "cell_type": "code",
      "source": [
        "import numpy as np\n",
        "a = np.random.randint(1, 11, size=(5, 5))\n",
        "print(a)"
      ],
      "metadata": {
        "colab": {
          "base_uri": "https://localhost:8080/"
        },
        "id": "1vqAG8HfY6KT",
        "outputId": "edfddcb9-dc24-4c96-cfb1-0f7f35e30c6d"
      },
      "execution_count": 5,
      "outputs": [
        {
          "output_type": "stream",
          "name": "stdout",
          "text": [
            "[[ 3  2 10  4  1]\n",
            " [ 1  3  3  6  2]\n",
            " [ 7  1  2  5  3]\n",
            " [ 8  9  7  7  3]\n",
            " [ 2  4  3  5  7]]\n"
          ]
        }
      ]
    },
    {
      "cell_type": "code",
      "source": [
        "import numpy as np\n",
        "a = np.random.rand(4, 4)\n",
        "print(a)"
      ],
      "metadata": {
        "colab": {
          "base_uri": "https://localhost:8080/"
        },
        "id": "vBgWyFStalo7",
        "outputId": "86e351b7-85f5-4138-8077-15a3063b2ba6"
      },
      "execution_count": 6,
      "outputs": [
        {
          "output_type": "stream",
          "name": "stdout",
          "text": [
            "[[0.62249446 0.5048349  0.46846719 0.92811496]\n",
            " [0.67770932 0.53303997 0.21916776 0.11879648]\n",
            " [0.32964736 0.05176519 0.68707937 0.80324049]\n",
            " [0.45516306 0.18105342 0.73909705 0.43038516]]\n"
          ]
        }
      ]
    },
    {
      "cell_type": "code",
      "source": [
        "import numpy as np\n",
        "a = np.random.randint(1, 11, size=5)\n",
        "b = np.random.randint(1, 11, size=5)\n",
        "addition = a + b\n",
        "subtraction = a - b\n",
        "multiplication = a * b\n",
        "print(addition)\n",
        "print(subtraction)\n",
        "print(multiplication)"
      ],
      "metadata": {
        "colab": {
          "base_uri": "https://localhost:8080/"
        },
        "id": "b9q4ULRYbtk7",
        "outputId": "efd379cf-dba1-4aaf-a81f-566e0b507a66"
      },
      "execution_count": 7,
      "outputs": [
        {
          "output_type": "stream",
          "name": "stdout",
          "text": [
            "[ 5  3  6 12  8]\n",
            "[ 3  1  0 -8 -6]\n",
            "[ 4  2  9 20  7]\n"
          ]
        }
      ]
    },
    {
      "cell_type": "code",
      "source": [
        "import numpy as np\n",
        "\n",
        "a = np.random.rand(7)\n",
        "b = np.random.rand(7)\n",
        "print(np.dot(a, b))"
      ],
      "metadata": {
        "colab": {
          "base_uri": "https://localhost:8080/"
        },
        "id": "bSmViR04dY7s",
        "outputId": "9e5fe591-f736-4667-8b68-5d8dd69ebc0d"
      },
      "execution_count": 9,
      "outputs": [
        {
          "output_type": "stream",
          "name": "stdout",
          "text": [
            "1.9468223602177148\n"
          ]
        }
      ]
    },
    {
      "cell_type": "code",
      "source": [
        "import numpy as np\n",
        "a = np.random.randint(1, 11, size=(2, 2))\n",
        "b = np.random.randint(1, 11, size=(2, 3))\n",
        "c = np.dot(a, b)\n",
        "print(c)"
      ],
      "metadata": {
        "colab": {
          "base_uri": "https://localhost:8080/"
        },
        "id": "KjZ9Mfufedp3",
        "outputId": "6b1840ae-00f0-49f7-fcb9-efcf26fb9c12"
      },
      "execution_count": 10,
      "outputs": [
        {
          "output_type": "stream",
          "name": "stdout",
          "text": [
            "[[ 45  85 140]\n",
            " [ 18  44  52]]\n"
          ]
        }
      ]
    },
    {
      "cell_type": "code",
      "source": [
        "import numpy as np\n",
        "a = np.random.randint(1, 11, size=(3, 3))\n",
        "a_inv = np.linalg.inv(a)\n",
        "print(a_inv)"
      ],
      "metadata": {
        "colab": {
          "base_uri": "https://localhost:8080/"
        },
        "id": "nlwaqZ8lgA8i",
        "outputId": "063076b6-635a-4644-eb87-365e47f7d917"
      },
      "execution_count": 11,
      "outputs": [
        {
          "output_type": "stream",
          "name": "stdout",
          "text": [
            "[[-0.11340206  0.30927835 -0.03092784]\n",
            " [ 0.40206186 -0.27835052 -0.07216495]\n",
            " [-0.31958763  0.1443299   0.18556701]]\n"
          ]
        }
      ]
    },
    {
      "cell_type": "code",
      "source": [
        "import numpy as np\n",
        "a = np.random.rand(4, 4)\n",
        "print(a)\n",
        "b = np.transpose(a)\n",
        "print(b)"
      ],
      "metadata": {
        "colab": {
          "base_uri": "https://localhost:8080/"
        },
        "id": "viXdoxXshObW",
        "outputId": "94821033-5831-4620-82c2-8a1968d349b0"
      },
      "execution_count": 12,
      "outputs": [
        {
          "output_type": "stream",
          "name": "stdout",
          "text": [
            "[[0.50836839 0.54631085 0.77676136 0.07212269]\n",
            " [0.26682777 0.79452438 0.31240283 0.49069637]\n",
            " [0.99685478 0.98881706 0.89813967 0.31590632]\n",
            " [0.63075235 0.39870116 0.90855909 0.44971904]]\n",
            "[[0.50836839 0.26682777 0.99685478 0.63075235]\n",
            " [0.54631085 0.79452438 0.98881706 0.39870116]\n",
            " [0.77676136 0.31240283 0.89813967 0.90855909]\n",
            " [0.07212269 0.49069637 0.31590632 0.44971904]]\n"
          ]
        }
      ]
    },
    {
      "cell_type": "code",
      "source": [
        "import numpy as np\n",
        "a = np.random.randint(1, 11, size=(3, 4))\n",
        "b = np.random.randint(1, 11, size=4)\n",
        "c = np.dot(a, b)\n",
        "print(c)"
      ],
      "metadata": {
        "colab": {
          "base_uri": "https://localhost:8080/"
        },
        "id": "t89ne_Najf7o",
        "outputId": "5525f13b-58dd-4ab2-c361-580a6b0cf993"
      },
      "execution_count": 13,
      "outputs": [
        {
          "output_type": "stream",
          "name": "stdout",
          "text": [
            "[196 122 134]\n"
          ]
        }
      ]
    },
    {
      "cell_type": "code",
      "source": [
        "import numpy as np\n",
        "a = np.random.rand(2, 3)\n",
        "b = np.random.rand(3)\n",
        "c = np.dot(a, b)\n",
        "print(c)"
      ],
      "metadata": {
        "colab": {
          "base_uri": "https://localhost:8080/"
        },
        "id": "UzBG-T1pvmHE",
        "outputId": "ee165995-3837-4f9b-c2e1-cc93ba18bf2b"
      },
      "execution_count": 14,
      "outputs": [
        {
          "output_type": "stream",
          "name": "stdout",
          "text": [
            "[0.63252814 0.81584149]\n"
          ]
        }
      ]
    },
    {
      "cell_type": "code",
      "source": [
        "import numpy as np\n",
        "a = np.random.randint(1, 11, size=(2, 2))\n",
        "b = np.random.randint(1, 11, size=(2, 2))\n",
        "c = np.multiply(a, b)\n",
        "print(c)"
      ],
      "metadata": {
        "colab": {
          "base_uri": "https://localhost:8080/"
        },
        "id": "xW3TQ0KMwbTM",
        "outputId": "59726a84-712f-4dd6-8e74-3ca5f7dbd4cc"
      },
      "execution_count": 15,
      "outputs": [
        {
          "output_type": "stream",
          "name": "stdout",
          "text": [
            "[[63  8]\n",
            " [24 21]]\n"
          ]
        }
      ]
    },
    {
      "cell_type": "code",
      "source": [
        "import numpy as np\n",
        "a = np.random.randint(1, 11, size=(2, 2))\n",
        "b = np.random.randint(1, 11, size=(2, 2))\n",
        "c = np.dot(a, b)\n",
        "print(c)"
      ],
      "metadata": {
        "colab": {
          "base_uri": "https://localhost:8080/"
        },
        "id": "V_2q8jwXxfoZ",
        "outputId": "e8c4b579-07a8-4ecf-ceed-aa26d86b9050"
      },
      "execution_count": 16,
      "outputs": [
        {
          "output_type": "stream",
          "name": "stdout",
          "text": [
            "[[75 45]\n",
            " [37 33]]\n"
          ]
        }
      ]
    },
    {
      "cell_type": "code",
      "source": [
        "import numpy as np\n",
        "a = np.random.randint(1, 101, size=(2, 2))\n",
        "b = np.sum(a)\n",
        "print(b)"
      ],
      "metadata": {
        "colab": {
          "base_uri": "https://localhost:8080/"
        },
        "id": "tUzFQf3Qx0ah",
        "outputId": "5d47a369-9bc7-47ee-b00e-d35858db3fae"
      },
      "execution_count": 17,
      "outputs": [
        {
          "output_type": "stream",
          "name": "stdout",
          "text": [
            "211\n"
          ]
        }
      ]
    },
    {
      "cell_type": "code",
      "source": [
        "import numpy as np\n",
        "a = np.random.randint(1, 11, size=(4, 4))\n",
        "b = np.random.randint(1, 11, size=(4, 4))\n",
        "c = a - b\n",
        "print(a)\n",
        "print(b)\n",
        "print(c)"
      ],
      "metadata": {
        "colab": {
          "base_uri": "https://localhost:8080/"
        },
        "id": "fBfxWqVQyv0F",
        "outputId": "f11f0029-88fc-4b0b-f63f-c9922e7dd744"
      },
      "execution_count": 19,
      "outputs": [
        {
          "output_type": "stream",
          "name": "stdout",
          "text": [
            "[[ 1  5  9 10]\n",
            " [ 2  6  8  4]\n",
            " [ 2  6  1  7]\n",
            " [10  3  5  3]]\n",
            "[[ 2  5  5  9]\n",
            " [ 4  4  4 10]\n",
            " [10  3  9 10]\n",
            " [ 1  5  4  3]]\n",
            "[[-1  0  4  1]\n",
            " [-2  2  4 -6]\n",
            " [-8  3 -8 -3]\n",
            " [ 9 -2  1  0]]\n"
          ]
        }
      ]
    },
    {
      "cell_type": "code",
      "source": [
        "import numpy as np\n",
        "a = np.random.rand(3, 3)\n",
        "b = np.sum(a, axis=1, keepdims=True)\n",
        "print(a)\n",
        "print(b)"
      ],
      "metadata": {
        "colab": {
          "base_uri": "https://localhost:8080/"
        },
        "id": "l_Zu9CoVzoE3",
        "outputId": "02ca4e32-b946-4223-bdde-4cf1ee69d11e"
      },
      "execution_count": 20,
      "outputs": [
        {
          "output_type": "stream",
          "name": "stdout",
          "text": [
            "[[0.54410082 0.46303424 0.93146752]\n",
            " [0.50209089 0.93666598 0.89953724]\n",
            " [0.79726918 0.64111478 0.35138397]]\n",
            "[[1.93860258]\n",
            " [2.3382941 ]\n",
            " [1.78976793]]\n"
          ]
        }
      ]
    },
    {
      "cell_type": "code",
      "source": [
        "import numpy as np\n",
        "a = np.random.randint(1, 10, size=(3, 4))\n",
        "b = a ** 2\n",
        "print(a)\n",
        "print(b)"
      ],
      "metadata": {
        "colab": {
          "base_uri": "https://localhost:8080/"
        },
        "id": "aeJhwXAx0bLm",
        "outputId": "8e75ff76-74bb-48e8-9c70-a40a3c4fd695"
      },
      "execution_count": 22,
      "outputs": [
        {
          "output_type": "stream",
          "name": "stdout",
          "text": [
            "[[8 1 2 2]\n",
            " [2 2 5 7]\n",
            " [4 6 9 1]]\n",
            "[[64  1  4  4]\n",
            " [ 4  4 25 49]\n",
            " [16 36 81  1]]\n"
          ]
        }
      ]
    },
    {
      "cell_type": "code",
      "source": [
        "import numpy as np\n",
        "a = np.random.randint(1, 51, size=(4))\n",
        "b = np.sqrt(a)\n",
        "print(a)\n",
        "print(b)"
      ],
      "metadata": {
        "colab": {
          "base_uri": "https://localhost:8080/"
        },
        "id": "6XhFzYPI1L-q",
        "outputId": "8241b288-daae-4f02-e7c1-1753106b4e26"
      },
      "execution_count": 23,
      "outputs": [
        {
          "output_type": "stream",
          "name": "stdout",
          "text": [
            "[11 48  3  8]\n",
            "[3.31662479 6.92820323 1.73205081 2.82842712]\n"
          ]
        }
      ]
    },
    {
      "cell_type": "markdown",
      "source": [
        "Завдання 2"
      ],
      "metadata": {
        "id": "8AoHn67J2C-i"
      }
    },
    {
      "cell_type": "code",
      "source": [
        "import numpy as np\n",
        "arr = np.array([0, 1, 2, 3, 4, 5, 6, 7, 8, 9])\n",
        "a = arr % 2 != 0\n",
        "arr[a] = -1\n",
        "print(arr)"
      ],
      "metadata": {
        "colab": {
          "base_uri": "https://localhost:8080/"
        },
        "id": "XMae_9yQ2HsO",
        "outputId": "72b115f3-fb18-4604-93d4-712d48e3c9f5"
      },
      "execution_count": 24,
      "outputs": [
        {
          "output_type": "stream",
          "name": "stdout",
          "text": [
            "[ 0 -1  2 -1  4 -1  6 -1  8 -1]\n"
          ]
        }
      ]
    },
    {
      "cell_type": "code",
      "source": [
        "import numpy as np\n",
        "a_1d = np.array([0, 1, 2, 3, 4, 5, 6, 7])\n",
        "a_2d = a_1d.reshape(2, -1)\n",
        "print(a_1d)\n",
        "print(a_2d)"
      ],
      "metadata": {
        "colab": {
          "base_uri": "https://localhost:8080/"
        },
        "id": "Scn0Jr0u5b0J",
        "outputId": "f7173b84-7fc7-4d2a-a90b-7374d8031ee7"
      },
      "execution_count": 25,
      "outputs": [
        {
          "output_type": "stream",
          "name": "stdout",
          "text": [
            "[0 1 2 3 4 5 6 7]\n",
            "[[0 1 2 3]\n",
            " [4 5 6 7]]\n"
          ]
        }
      ]
    },
    {
      "cell_type": "code",
      "source": [
        "import numpy as np\n",
        "a = np.array([[1, 2, 3], [4, 5, 6]])\n",
        "b = np.array([[7, 8, 9], [10, 11, 12]])\n",
        "c = np.vstack((a, b))\n",
        "print(a)\n",
        "print(b)\n",
        "print(c)"
      ],
      "metadata": {
        "colab": {
          "base_uri": "https://localhost:8080/"
        },
        "id": "7lAoIP7z6S5T",
        "outputId": "ce55641e-708e-4b72-dd3a-6030494d9c02"
      },
      "execution_count": 26,
      "outputs": [
        {
          "output_type": "stream",
          "name": "stdout",
          "text": [
            "[[1 2 3]\n",
            " [4 5 6]]\n",
            "[[ 7  8  9]\n",
            " [10 11 12]]\n",
            "[[ 1  2  3]\n",
            " [ 4  5  6]\n",
            " [ 7  8  9]\n",
            " [10 11 12]]\n"
          ]
        }
      ]
    },
    {
      "cell_type": "code",
      "source": [
        "import numpy as np\n",
        "a = np.array([1, 2, 3])\n",
        "b = np.tile(a, 3)\n",
        "c = np.repeat(b, 3)\n",
        "print(c)"
      ],
      "metadata": {
        "colab": {
          "base_uri": "https://localhost:8080/"
        },
        "id": "n6J5Q3lk7Kpv",
        "outputId": "d0578fd2-93f1-41d6-c092-7ab326c85cd2"
      },
      "execution_count": 27,
      "outputs": [
        {
          "output_type": "stream",
          "name": "stdout",
          "text": [
            "[1 1 1 2 2 2 3 3 3 1 1 1 2 2 2 3 3 3 1 1 1 2 2 2 3 3 3]\n"
          ]
        }
      ]
    },
    {
      "cell_type": "code",
      "source": [
        "import numpy as np\n",
        "a = np.array([1, 2, 3, 2, 3, 4, 3, 4, 5, 6])\n",
        "b = np.array([7, 2, 10, 2, 7, 4, 9, 4, 9, 8])\n",
        "c = np.intersect1d(a, b)\n",
        "print(c)"
      ],
      "metadata": {
        "colab": {
          "base_uri": "https://localhost:8080/"
        },
        "id": "nEluOgam8Lvu",
        "outputId": "d0a70471-c8a8-4b7d-eab7-dd6a98f68f56"
      },
      "execution_count": 28,
      "outputs": [
        {
          "output_type": "stream",
          "name": "stdout",
          "text": [
            "[2 4]\n"
          ]
        }
      ]
    },
    {
      "cell_type": "code",
      "source": [
        "import numpy as np\n",
        "np.random.seed(100)\n",
        "a = np.random.uniform(1,50, 20)\n",
        "b = np.argsort(a)[-5:][::-1]\n",
        "print(a)\n",
        "print(b)"
      ],
      "metadata": {
        "colab": {
          "base_uri": "https://localhost:8080/"
        },
        "id": "qepkIY2i9LE8",
        "outputId": "6888d84d-f60c-4dcc-900a-9b941bd2add5"
      },
      "execution_count": 2,
      "outputs": [
        {
          "output_type": "stream",
          "name": "stdout",
          "text": [
            "[27.62684215 14.64009987 21.80136195 42.39403048  1.23122395  6.95688692\n",
            " 33.86670515 41.466785    7.69862289 29.17957314 44.67477576 11.25090398\n",
            " 10.08108276  6.31046763 11.76517714 48.95256545 40.77247431  9.42510962\n",
            " 40.99501269 14.42961361]\n",
            "[15 10  3  7 18]\n"
          ]
        }
      ]
    },
    {
      "cell_type": "code",
      "source": [
        "import numpy as np\n",
        "a = np.array([1, 2, 3, np.nan, 5, 6, 7, np.nan])\n",
        "mask = ~np.isnan(a)\n",
        "filtered_a = a[mask]\n",
        "print(filtered_a)"
      ],
      "metadata": {
        "colab": {
          "base_uri": "https://localhost:8080/"
        },
        "id": "boemxU8kkYNm",
        "outputId": "28f4583a-f1ed-4f04-ab3e-7b222d3fb1ff"
      },
      "execution_count": 4,
      "outputs": [
        {
          "output_type": "stream",
          "name": "stdout",
          "text": [
            "[1. 2. 3. 5. 6. 7.]\n"
          ]
        }
      ]
    },
    {
      "cell_type": "code",
      "source": [
        "import numpy as np\n",
        "a = np.array([1, 2, 3, 4, 5])\n",
        "b = np.array([4, 5, 6, 7, 8])\n",
        "c = np.linalg.norm(a - b)\n",
        "print(c)"
      ],
      "metadata": {
        "colab": {
          "base_uri": "https://localhost:8080/"
        },
        "id": "vkG9FiycmhDd",
        "outputId": "5dec023c-d208-4606-9492-6c3e1e322a09"
      },
      "execution_count": 5,
      "outputs": [
        {
          "output_type": "stream",
          "name": "stdout",
          "text": [
            "6.708203932499369\n"
          ]
        }
      ]
    },
    {
      "cell_type": "code",
      "source": [
        "import numpy as np\n",
        "x = np.array([1, 2, 1, 1, 3, 4, 3, 1, 1, 2, 1, 1, 2])\n",
        "b = np.where(x == 1)[0]\n",
        "if len(b) >= 5:\n",
        "    fifth_index = b[5]\n",
        "    print(fifth_index)"
      ],
      "metadata": {
        "colab": {
          "base_uri": "https://localhost:8080/"
        },
        "id": "k5YZyF7qn2PU",
        "outputId": "727b7ac0-6a0c-42d8-8cee-451dd994a0f5"
      },
      "execution_count": 10,
      "outputs": [
        {
          "output_type": "stream",
          "name": "stdout",
          "text": [
            "10\n"
          ]
        }
      ]
    },
    {
      "cell_type": "code",
      "source": [
        "import numpy as np\n",
        "np.random.seed(100)\n",
        "a = np.random.randint(0, 5, 10)\n",
        "print(\"Input array:\", a)\n",
        "repeats = np.zeros(len(a), dtype=bool)\n",
        "seen = {}\n",
        "for i, value in enumerate(a):\n",
        "    if value in seen:\n",
        "        repeats[i] = True\n",
        "    else:\n",
        "        seen[value] = True\n",
        "print(\"Output array:\", repeats)\n"
      ],
      "metadata": {
        "colab": {
          "base_uri": "https://localhost:8080/"
        },
        "id": "Wl2VySu5qqaN",
        "outputId": "0fc64dc3-1476-47b5-c3a0-c2e4ca91d01d"
      },
      "execution_count": 11,
      "outputs": [
        {
          "output_type": "stream",
          "name": "stdout",
          "text": [
            "Input array: [0 0 3 0 2 4 2 2 2 2]\n",
            "Output array: [False  True False  True False False  True  True  True  True]\n"
          ]
        }
      ]
    }
  ]
}